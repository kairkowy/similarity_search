{
 "cells": [
  {
   "cell_type": "markdown",
   "id": "d53c0a2b-17f9-44d4-baf4-4c532c20d846",
   "metadata": {},
   "source": [
    "### RAG 시나리오(문서)\n",
    "1. 시나리오1: LLM에 직접 질문&답.\n",
    "2. 시나리오2(RAG): DB 데이터의 벡터검색 결과를 LLM이 참조하는 답변.\n",
    "3. 2개의 시나리오 결과를 비교해보세요 "
   ]
  },
  {
   "cell_type": "markdown",
   "id": "87b1de6d-54d7-4459-9e34-7cbccbfe2ee6",
   "metadata": {},
   "source": [
    "### 0. 파이썬 라이브러리 로딩 및 오라클 DB 접속"
   ]
  },
  {
   "cell_type": "code",
   "execution_count": null,
   "id": "633d75c8-8754-426b-b860-dafd3f08d515",
   "metadata": {
    "collapsed": true,
    "jupyter": {
     "outputs_hidden": true
    }
   },
   "outputs": [],
   "source": [
    "# 파이썬 라이브러리 로딩 및 오라클 DB 접속\n",
    "import oracledb,oml\n",
    "import re, os, time\n",
    "import pandas as pd\n",
    "import import_ipynb\n",
    "from IPython.display import display\n",
    "from user_functions import get_conn_cursor,get_db_version,exec_sql,exec_sql_rows,dml_sql,ddl_sql,clean_text\n",
    "\n",
    "# DB 접속\n",
    "conn, cursor = get_conn_cursor(\"vector\",\"vector\",\"localhost:1521/freepdb1\")\n",
    "\n",
    "# DB 버전 확인\n",
    "get_db_version(cursor)"
   ]
  },
  {
   "cell_type": "markdown",
   "id": "c032a7a7-2209-478d-8543-744cfd2181e2",
   "metadata": {},
   "source": [
    "### 1. RAG DB 데이터 준비\n",
    "1. 문서->텍스트 추출->청킹->임베딩 실행\n",
    "2. 임베딩 정보를 테이블에 저장, 벡터 인덱싱 생성"
   ]
  },
  {
   "cell_type": "code",
   "execution_count": null,
   "id": "9e3716f5-7727-4c0b-8a56-42f15c880b91",
   "metadata": {
    "collapsed": true,
    "jupyter": {
     "outputs_hidden": true
    }
   },
   "outputs": [],
   "source": [
    "# 벡터 테이블 정리\n",
    "dr_tbl = \"\"\"truncate table rag_tbl_v \"\"\"\n",
    "ddl_sql(cursor,dr_tbl)\n",
    "print(\"테이블이 정리 됐습니다\")\n",
    "\n",
    "# 문서에서 텍스트 추출 및 청킹\n",
    "# 임베딩 및 인덱싱\n",
    "print(\"임베딩 및 인덱싱을 진행중입니다 ......\")\n",
    "cr_tbl = \"\"\"\n",
    "insert into rag_tbl_v  \n",
    "SELECT dt.id AS 문서번호, dt.doc_name as 문서명, et.embed_id as 청크ID , et.embed_data AS 문서내용, to_vector(et.embed_vector) as 벡터\n",
    "  FROM rag_tbl dt, \n",
    "         dbms_vector_chain.utl_to_embeddings(\n",
    "         dbms_vector_chain.utl_to_chunks(\n",
    "           dbms_vector_chain.utl_to_text(dt.doc),\n",
    "           JSON('{\"by\" : \"words\",\"max\" : \"150\", \"overlap\" : \"20\",\"split\" : \"newline\",\"language\" : \"korean\",\"normalize\" : \"all\"}')),\n",
    "\t\t   JSON('{\"provider\":\"database\", \"model\":\"PARAPHRASE_MULTILINGUAL_MPNET_BASE_V2\"}')) t,\n",
    "       JSON_TABLE(t.column_value, '$'columns (embed_id number,embed_data varchar2(4000), embed_vector CLOB)) et\n",
    "WHERE dt.id = 3\n",
    "\"\"\"\n",
    "start_time = time.time()\n",
    "rows = ddl_sql(cursor,cr_tbl)\n",
    "execute_time = time.time() - start_time\n",
    "print(\"임베딩 완료 시간 :\",execute_time)\n",
    "\n",
    "# 벡터 인덱싱 정리\n",
    "ddl_sql(cursor,\"drop index if exists rag_tbl_v_idx\")\n",
    "\n",
    "# 벡터 인덱싱\n",
    "crIdx = \"\"\" create vector index rag_tbl_v_idx on rag_tbl_v(벡터)\n",
    "ORGANIZATION INMEMORY NEIGHBOR GRAPH WITH DISTANCE COSINE\n",
    "\"\"\"\n",
    "ddl_sql(cursor,crIdx)\n",
    "print(\"인덱싱 완료\")\n",
    "print(\"벡터 데이터 준비가 됐습니다.\")"
   ]
  },
  {
   "cell_type": "markdown",
   "id": "dae1efdc-9b07-4b04-9f65-b36ce838f876",
   "metadata": {},
   "source": [
    "### 공통질문"
   ]
  },
  {
   "cell_type": "code",
   "execution_count": null,
   "id": "643ed833-e525-4722-8e26-17b18d4dcaac",
   "metadata": {
    "collapsed": true,
    "jupyter": {
     "outputs_hidden": true
    }
   },
   "outputs": [],
   "source": [
    "# 공통 질문\n",
    "user_q = \"공공기관 분리발주 대상 소프트웨어는 어떤것들이 있나요?\"\n",
    "print(\"공통질문 :\",user_q)"
   ]
  },
  {
   "cell_type": "markdown",
   "id": "486a4c0f-4039-412a-862f-66926a8343fb",
   "metadata": {},
   "source": [
    "### 2. LLM 질의 답변 경우\n",
    "- LLM : LLAMA3.2\n",
    "- 질문은 별도 자료 제공없이 질문합니다."
   ]
  },
  {
   "cell_type": "code",
   "execution_count": null,
   "id": "31715965-6863-479b-92ff-185675079645",
   "metadata": {
    "collapsed": true,
    "jupyter": {
     "outputs_hidden": true
    }
   },
   "outputs": [],
   "source": [
    "# LLM(llama3.2) 질의 응답\n",
    "# Oracle's API for ollama\n",
    "gen_param = \"\"\"{\"provider\":\"ollama\", \"host\":\"local\", \"url\":\"http://localhost:11434/api/generate\", \"model\":\"llama3.2\"}\"\"\"\n",
    "\n",
    "gen_q = \"\"\"select dbms_vector.utl_to_generate_text(:txt, json(:param)) from dual\"\"\"\n",
    "print(\"LLAMA3.2에 질문 : \",user_q,\" 에 대한 답변을 준비중입니다......\")\n",
    "\n",
    "import time\n",
    "start_time = time.time()\n",
    "result = exec_sql_rows(cursor,gen_q,{\"param\":gen_param,\"txt\":user_q})\n",
    "execute_time = time.time() - start_time\n",
    "lob_result = result[0][0]\n",
    "print(\"LLAMA3.2가 학습된 정보를 기초로 답변한 내용은 다음과 같습니다.\")\n",
    "print(\"---------------------------------------------------------------------\")\n",
    "print(lob_result.read())\n",
    "print(\"---------------------------------------------------------------------\")\n",
    "print(\"실행 시간 :\",execute_time)"
   ]
  },
  {
   "cell_type": "markdown",
   "id": "f213dfd8-33d7-4b1f-8fbb-24568b68b776",
   "metadata": {},
   "source": [
    "### 참고 : 시나리오에 사용할 문서"
   ]
  },
  {
   "cell_type": "code",
   "execution_count": null,
   "id": "47d5c408-1cab-4556-b370-22bc9ea99d4b",
   "metadata": {
    "collapsed": true,
    "jupyter": {
     "outputs_hidden": true
    }
   },
   "outputs": [],
   "source": [
    "# pdf 문서(소프트웨어 분리발주 매뉴얼)디스플레이\n",
    "import os\n",
    "from IPython.display import FileLink\n",
    "img_dir = \"./data/doc/rag/\"  \n",
    "img_file = \"소프트웨어_분리발주_매뉴얼_개정배포_16.7.pdf\" \n",
    "img_path = os.path.join(img_dir, img_file)\n",
    "\n",
    "display(FileLink(img_path))"
   ]
  },
  {
   "cell_type": "markdown",
   "id": "6d23b53d-e8a4-4e6c-83c8-c762d8f8df5f",
   "metadata": {},
   "source": [
    "### 3. RAG 실행 경우\n",
    "- RAG 실행 순서는 1. 사용자 질의가 들어 있는 문장에 대한 DB 벡터 검색, 2. 벡터 검색 결과를 참조하는 프롬프트 생성, 3. 프로프트를 LLM에 전달, 답변 요청, 4. LLM 답변\n",
    "- LLM : LLAMA3.2"
   ]
  },
  {
   "cell_type": "code",
   "execution_count": null,
   "id": "518468b5-1bbe-4222-bdf4-56cd39a07818",
   "metadata": {
    "collapsed": true,
    "jupyter": {
     "outputs_hidden": true
    }
   },
   "outputs": [],
   "source": [
    "# 사용자 지정 문서를 참조한 RAG 답변\n",
    "\n",
    "print(user_q,\"에 대한 답변을 DB문서를 참조해서 답변을 준비중입니다......\")\n",
    "\n",
    "# 1. vector search\n",
    "sim_search = \"\"\"\n",
    "select T.문서명,T.청크ID, T.문서내용\n",
    "from rag_tbl_v T\n",
    "order by vector_distance(T.벡터,dbms_vector.utl_to_embedding(:u_sentence, \n",
    "                                                       json('{\"provider\":\"database\", \"model\":\"PARAPHRASE_MULTILINGUAL_MPNET_BASE_V2\"}')),cosine)\n",
    "fetch first 3 rows only\n",
    "\"\"\"\n",
    "simq_start_time = time.time()\n",
    "sim_result = exec_sql(cursor,sim_search,{\"u_sentence\":user_q})\n",
    "sim_result = clean_text(sim_result)\n",
    "sim_result['문서내용']=sim_result['문서내용'].str.replace('�', '', regex=False)\n",
    "simq_time = time.time() - simq_start_time\n",
    "\n",
    "print(\"벡터쿼리 실행 시간 \",simq_time)\n",
    "\n",
    "# ollama API by oracle\n",
    "gen_ollama_params = \"\"\"{\"provider\":\"ollama\", \n",
    "                          \"host\":\"local\", \n",
    "                          \"url\":\"http://180.68.194.221:11434/api/generate\",\n",
    "                          \"model\":\"llama3.2\"}\n",
    "                          \"\"\"\n",
    "from langchain_core.prompts import ChatPromptTemplate\n",
    "from langchain_ollama.llms import OllamaLLM\n",
    "\n",
    "user_question = user_q\n",
    "\n",
    "## 2. 프롬프트 생성 \n",
    "template = \"\"\"\n",
    "Context 정보만를 이용해서 답변해주세요.\n",
    "'답변'과'참조문서'로 구분해서 답변해주세요.답변 작성시 친숙한 어조로 작성해주세요.\n",
    "'답변'은 500자 이내로 요약 정리해주세요. '참조문서'에는 context의 '문서명'과 '청크ID'를 명시해주세요.\n",
    "CONTEXT : {context}\n",
    "[INST]QUESTION : {question}[/INST]\n",
    "\"\"\"\n",
    "print(\"프로프트 \\n\", template)\n",
    "\n",
    "prompt = ChatPromptTemplate.from_template(template)\n",
    "print(\"langchain-ollama 프롬프트를 생성하였고, LLAMA3.2가 답변을 생성중입니다.......\")\n",
    "\n",
    "# 3. LLM 답변 생성\n",
    "model = OllamaLLM(model=\"llama3.2\", max_new_tokens= 2000 ,temperature=0.1, base_url='http://180.68.194.221:11434')\n",
    "chain = prompt | model \n",
    "\n",
    "rag_start_time = time.time()\n",
    "answer = chain.invoke({\"context\":sim_result,\"question\": user_question})\n",
    "rag_time = time.time() - rag_start_time\n",
    "\n",
    "print(\"LLM 답변 생성시간 : \",rag_time)\n",
    "print(\"-----------------------------------------------------------------------------------\")\n",
    "print(answer)\n",
    "print(\"-----------------------------------------------------------------------------------\")"
   ]
  },
  {
   "cell_type": "markdown",
   "id": "7e73dcd2-9061-44e3-b11a-67832aa64f41",
   "metadata": {},
   "source": [
    "### 참고 : 벡터 검색 결과"
   ]
  },
  {
   "cell_type": "code",
   "execution_count": null,
   "id": "260e8a7d-db71-4727-a57e-053cf329fcfb",
   "metadata": {
    "collapsed": true,
    "jupyter": {
     "outputs_hidden": true
    }
   },
   "outputs": [],
   "source": [
    "# 벡터 검색 결과\n",
    "display(\n",
    "    sim_result.head(10).style\n",
    "    .set_properties(**{'text-align': 'left'})\n",
    "        .set_table_styles([{'selector': 'th', 'props': [('text-align', 'left')]}])\n",
    ")"
   ]
  },
  {
   "cell_type": "markdown",
   "id": "0107e515-3863-448f-8917-d627a3d0bcd6",
   "metadata": {},
   "source": [
    "시나리오 종료"
   ]
  },
  {
   "cell_type": "markdown",
   "id": "2d0ec2a1-50d1-493f-89ed-09108e942cd3",
   "metadata": {},
   "source": [
    "--------------------------"
   ]
  },
  {
   "cell_type": "code",
   "execution_count": null,
   "id": "058f383a-f2ea-4dd4-8f8b-3f33807565e3",
   "metadata": {
    "collapsed": true,
    "jupyter": {
     "outputs_hidden": true
    }
   },
   "outputs": [],
   "source": []
  }
 ],
 "metadata": {
  "kernelspec": {
   "display_name": "Python 3 (ipykernel)",
   "language": "python",
   "name": "python3"
  },
  "language_info": {
   "codemirror_mode": {
    "name": "ipython",
    "version": 3
   },
   "file_extension": ".py",
   "mimetype": "text/x-python",
   "name": "python",
   "nbconvert_exporter": "python",
   "pygments_lexer": "ipython3",
   "version": "3.12.9"
  }
 },
 "nbformat": 4,
 "nbformat_minor": 5
}
