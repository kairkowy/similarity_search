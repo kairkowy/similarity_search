{
 "cells": [
  {
   "cell_type": "markdown",
   "id": "1c2be262-8012-41cc-be38-42037d488198",
   "metadata": {},
   "source": [
    "### 이미지 벡터 검색 시나리오\n",
    "1. 라이브러리 로딩 및 DB 접속\n",
    "2. 임베딩 모델 확인\n",
    "3. 테이블 저장된 이미지 확인\n",
    "4. 벡터 컬럼 초기화 및 임베딩 저장\n",
    "5. 검증(입력)용 데이터 확인\n",
    "6. 유사 이미지 검색(이미지 to 이미지\n",
    "7. 유사 이미지 검색(텍스트 to 이미지)"
   ]
  },
  {
   "cell_type": "markdown",
   "id": "7ea88ff1-c4e0-48f9-b312-cb65622b0fdd",
   "metadata": {},
   "source": [
    "#### 1.파이썬 라이브러리 로딩 및 DB 접속"
   ]
  },
  {
   "cell_type": "code",
   "execution_count": null,
   "id": "a5f26cc9-3508-4083-ad74-3799ef3ba26a",
   "metadata": {
    "collapsed": true,
    "jupyter": {
     "outputs_hidden": true,
     "source_hidden": true
    }
   },
   "outputs": [],
   "source": [
    "# 23ai 접속 및 라이브러리 로딩\n",
    "import oracledb\n",
    "import oml\n",
    "import pandas as pd\n",
    "import import_ipynb\n",
    "from IPython.display import display\n",
    "from user_functions import get_conn_cursor, get_db_version, exec_sql,exec_sql_rows, dml_sql, ddl_sql, img_show\n",
    "\n",
    "import os, io\n",
    "from PIL import Image\n",
    "import matplotlib.pyplot as plt\n",
    "import math\n",
    "\n",
    "#print(\"Complete load libries\")\n",
    "\n",
    "# DB 접속\n",
    "conn, cursor = get_conn_cursor(\"vector\",\"vector\",\"localhost:1521/freepdb1\")\n",
    "\n",
    "# DB 버전 확인\n",
    "get_db_version(cursor)"
   ]
  },
  {
   "cell_type": "markdown",
   "id": "cd1da65d-8228-44ca-a5c4-7f0fd6325f99",
   "metadata": {},
   "source": [
    "#### 2. 임베딩 모델 확인\n",
    "- VIT_BASE_PATCH16_224_IMG 모델은 openai/clip-vit-large-patch14 CLIP 멀티모달 모델을 ONNX로 전환하여 DB에 저장된 모델임"
   ]
  },
  {
   "cell_type": "code",
   "execution_count": null,
   "id": "6a6d6302-0fa9-4186-8f04-8f4722e2a720",
   "metadata": {
    "collapsed": true,
    "jupyter": {
     "outputs_hidden": true,
     "source_hidden": true
    }
   },
   "outputs": [],
   "source": [
    "# DB관리중인 ONNX 모델 조회\n",
    "managed_models = 'SELECT MODEL_NAME, MINING_FUNCTION, ALGORITHM, ALGORITHM_TYPE, (MODEL_SIZE/1024/1024) MB FROM user_mining_models ORDER BY MODEL_NAME'\n",
    "print(\"DB관리중인 ONNX 모델\")\n",
    "exec_sql(cursor,managed_models)"
   ]
  },
  {
   "cell_type": "markdown",
   "id": "388a28a9-aaf1-4b7c-bbe8-5101483d9d91",
   "metadata": {},
   "source": [
    "#### 3. 테이블의 이미지 파일 확인"
   ]
  },
  {
   "cell_type": "code",
   "execution_count": null,
   "id": "ccdba043-4be2-4529-ad68-f3ccccf2f146",
   "metadata": {
    "collapsed": true,
    "jupyter": {
     "outputs_hidden": true,
     "source_hidden": true
    }
   },
   "outputs": [],
   "source": [
    "# 이미지 데이터 조회\n",
    "img_info = \"\"\"SELECT imgno, img_category_detail, img FROM img_tbl\"\"\"\n",
    "rows = exec_sql_rows(cursor,img_info)\n",
    "\n",
    "images = []\n",
    "titles = []\n",
    "\n",
    "for imgno, category, blob in rows:\n",
    "    if blob:\n",
    "        try:\n",
    "            img_bytes = blob.read()\n",
    "            img = Image.open(io.BytesIO(img_bytes))\n",
    "            images.append(img)\n",
    "            titles.append(f\"{imgno} - {category}\")\n",
    "        except Exception as e:\n",
    "            print(f\"IMGNO {imgno} 오류: {e}\")\n",
    "    else:\n",
    "        print(f\"IMGNO {imgno}는 이미지가 없습니다.\")\n",
    "\n",
    "# 8x5 그리드 디스플레이\n",
    "\n",
    "print(\"테이블 이미지 정보\")\n",
    "fig, axes = plt.subplots(5, 8, figsize=(12,8))\n",
    "\n",
    "for i in range(40):\n",
    "    ax = axes[i // 8, i % 8]\n",
    "    if i < len(images):\n",
    "        ax.imshow(images[i])\n",
    "        ax.set_title(titles[i], fontsize=10)\n",
    "    ax.axis('off')\n",
    "\n",
    "plt.tight_layout()\n",
    "plt.show()"
   ]
  },
  {
   "cell_type": "markdown",
   "id": "951b0d6e-03a8-4b84-aecc-7ef68a4db152",
   "metadata": {},
   "source": [
    "#### 4.벡터 컬럼 초기화 및 임베딩 저장 "
   ]
  },
  {
   "cell_type": "code",
   "execution_count": null,
   "id": "8aedc63b-cfec-4e1e-a590-c0478db7ec68",
   "metadata": {
    "collapsed": true,
    "jupyter": {
     "outputs_hidden": true,
     "source_hidden": true
    }
   },
   "outputs": [],
   "source": [
    "# 임베딩 데이터 초기화\n",
    "clean_v = \"\"\"update img_tbl set img_v = NULL\"\"\"\n",
    "dml_sql(conn,cursor,clean_v)\n",
    "img_info = \"\"\"select imgno, img_v from img_tbl fetch first 5 rows only\"\"\"\n",
    "print(\" 이미지 정보\")\n",
    "exec_sql(cursor,img_info)"
   ]
  },
  {
   "cell_type": "code",
   "execution_count": null,
   "id": "f166de38-4673-49aa-853f-3a5a09c22720",
   "metadata": {
    "collapsed": true,
    "jupyter": {
     "outputs_hidden": true,
     "source_hidden": true
    }
   },
   "outputs": [],
   "source": [
    "# 데이터 임베딩\n",
    "# convert to vector using 벡터 험수(vector_embedding)\n",
    "# 이미지 임베딩 모델 : VIT_BASE_PATCH16_224\n",
    "\n",
    "print(\"임베딩 처리 & 데이터 저장중입니다.....\")\n",
    "\n",
    "img_q = \"\"\"select imgno,\n",
    "           vector_embedding(VIT_BASE_PATCH16_224_IMG using to_blob(img) as DATA) \n",
    "           from img_tbl order by imgno\n",
    "        \"\"\"\n",
    "imgnos = exec_sql_rows(cursor,img_q)\n",
    "\n",
    "# 이미지 별로 벡터 임베딩 데이터를 벡터 컬럼값으로 저장 \n",
    "for row in imgnos:\n",
    "    imgno = row[0]\n",
    "    embedding = row[1]\n",
    "    # UPDATE 쿼리 실행 \n",
    "    cursor.execute(\"\"\"\n",
    "        UPDATE img_tbl\n",
    "        SET img_v = :embedding\n",
    "        WHERE imgno = :1\n",
    "    \"\"\", [embedding,imgno])\n",
    "    #print(f\"imgno {imgno} updated.\")\n",
    "conn.commit()\n",
    "print(\"embedding & saving complete!\")"
   ]
  },
  {
   "cell_type": "markdown",
   "id": "4e189427-407e-4cd0-b613-67b860e89649",
   "metadata": {},
   "source": [
    "#### 5.검증(입력)용 데이터 확인"
   ]
  },
  {
   "cell_type": "code",
   "execution_count": null,
   "id": "b0f77c34-4c17-4544-97c9-1389b12521c9",
   "metadata": {
    "collapsed": true,
    "jupyter": {
     "outputs_hidden": true,
     "source_hidden": true
    }
   },
   "outputs": [],
   "source": [
    "# 디렉토리의 이미지 확인\n",
    "import os\n",
    "from PIL import Image\n",
    "import matplotlib.pyplot as plt\n",
    "import math\n",
    "\n",
    "# 이미지가 있는 디렉토리 경로 \n",
    "\n",
    "print(\"테스트용 샘플 이미지\")\n",
    "img_dir = \"./data/images/val_data\"  \n",
    "img_files = [f for f in os.listdir(img_dir) if f.lower().endswith(('.png', '.jpg', '.jpeg', '.gif'))]\n",
    "\n",
    "cols = 6\n",
    "rows = math.ceil(len(img_files) / cols)\n",
    "\n",
    "fig, axes = plt.subplots(rows, cols, figsize=(10, 2 * rows))\n",
    "\n",
    "for i, ax in enumerate(axes.flat):\n",
    "    if i < len(img_files):\n",
    "        img_path = os.path.join(img_dir, img_files[i])\n",
    "        img = Image.open(img_path)\n",
    "        ax.imshow(img)\n",
    "        ax.set_title(img_files[i], fontsize=12)\n",
    "    ax.axis('off')\n",
    "\n",
    "plt.tight_layout()\n",
    "plt.show()\n"
   ]
  },
  {
   "cell_type": "markdown",
   "id": "cbe5e29d-14cf-4242-bda7-8db0bd3a6fe9",
   "metadata": {},
   "source": [
    "#### 6. 유사 이미지 검색(이미지 to 이미지)"
   ]
  },
  {
   "cell_type": "code",
   "execution_count": null,
   "id": "b3e72084-a000-413b-b86f-4bc9216e5194",
   "metadata": {
    "collapsed": true,
    "jupyter": {
     "outputs_hidden": true,
     "source_hidden": true
    }
   },
   "outputs": [],
   "source": [
    "import oml, os\n",
    "from PIL import Image\n",
    "import matplotlib.pyplot as plt\n",
    "from oracledb import DB_TYPE_BLOB\n",
    "\n",
    "img_dir = \"./data/images/val_data/\"  \n",
    "img_file = input(\"입력 이미지 파일명 입력 :\")\n",
    "img_path = os.path.join(img_dir, img_file)\n",
    "\n",
    "# 입력 이미지 화면 표시\n",
    "img_show(img_path)\n",
    "\n",
    "# 입력 이미지 임베딩\n",
    "with open(img_path, 'rb') as f:\n",
    "    img = f.read()  \n",
    "blob = cursor.var(DB_TYPE_BLOB)\n",
    "blob.setvalue(0, img)\n",
    "\n",
    "data = cursor.execute(\"select vector_embedding(VIT_BASE_PATCH16_224_IMG using :1 as DATA) from dual\", [blob])\n",
    "img_embed = data.fetchone()\n",
    "\n",
    "# 테이블 이미지에서 입력 이미지와 유사한 이미지 검색(벡터 검색)\n",
    "\n",
    "# 이미지 벡터 쿼리\n",
    "img_vq = \"\"\"\n",
    "select imgno,img_category_detail, img from img_tbl\n",
    "order by vector_distance(img_v, :1,cosine)\n",
    "fetch first 3 rows only\n",
    "\"\"\"\n",
    "result = exec_sql_rows(cursor,img_vq,img_embed)\n",
    "\n",
    "# 이미지 벡터 검색 결과 출력\n",
    "\n",
    "r_images = []\n",
    "r_titles = []\n",
    "\n",
    "for imgno, category, blob in result:\n",
    "    if blob:\n",
    "        try:\n",
    "            img_bytes = blob.read()\n",
    "            img = Image.open(io.BytesIO(img_bytes))\n",
    "            r_images.append(img)\n",
    "            r_titles.append(f\"{imgno} - {category}\")\n",
    "        except Exception as e:\n",
    "            print(f\"IMGNO {imgno} 오류: {e}\")\n",
    "    else:\n",
    "        print(f\"IMGNO {imgno}는 이미지가 없습니다.\")\n",
    "\n",
    "# 1*3 그리드 디스플레이\n",
    "print(\"벡터 검색 결과\")\n",
    "\n",
    "fig, axes = plt.subplots(1, 3, figsize=(10, 5))\n",
    "\n",
    "for i in range(3):\n",
    "    ax = axes[i]\n",
    "    if i < len(r_images):\n",
    "        ax.imshow(r_images[i])\n",
    "        ax.set_title(r_titles[i], fontsize=12)\n",
    "    ax.axis('off')\n",
    "\n",
    "plt.tight_layout()\n",
    "plt.show()"
   ]
  },
  {
   "cell_type": "markdown",
   "id": "05714ddf-3814-4285-8713-58e57abcec4c",
   "metadata": {},
   "source": [
    "#### 7. 유사 이미지 검색(텍스트 to 이미지)\n",
    "- 텍스트를 입력하면 의미를 입력하여 입력 텍스트와 유사한 이미지를 검색합니다"
   ]
  },
  {
   "cell_type": "code",
   "execution_count": null,
   "id": "9b9df748-fe01-4801-9ff6-9b00a30de656",
   "metadata": {
    "collapsed": true,
    "jupyter": {
     "outputs_hidden": true,
     "source_hidden": true
    }
   },
   "outputs": [],
   "source": [
    "import oml, os\n",
    "from PIL import Image\n",
    "import matplotlib.pyplot as plt\n",
    "from oracledb import DB_TYPE_BLOB\n",
    "\n",
    "txt2img = input(\"찾고 싶은 이미지 입력 :\")  #예 : cutted fruits\n",
    "\n",
    "data = cursor.execute(\"select vector_embedding(VIT_BASE_PATCH16_224_TXT using :1 as DATA) from dual\", [txt2img])\n",
    "img_embed = data.fetchone()\n",
    "\n",
    "# 테이블 이미지에서 입력 입력 텍스트와 의미가 유사한 이미지 검색(벡터 검색)\n",
    "\n",
    "# 텍스트 이미지 벡터 쿼리\n",
    "img_vq = \"\"\"\n",
    "select imgno,img_category_detail, img from img_tbl\n",
    "order by vector_distance(img_v, :1,cosine)\n",
    "fetch first 2 rows only\n",
    "\"\"\"\n",
    "result = exec_sql_rows(cursor,img_vq,img_embed)\n",
    "\n",
    "# 텍스트 이미지 벡터 검색 결과 출력\n",
    "\n",
    "r_images = []\n",
    "r_titles = []\n",
    "\n",
    "for imgno, category, blob in result:\n",
    "    if blob:\n",
    "        try:\n",
    "            img_bytes = blob.read()\n",
    "            img = Image.open(io.BytesIO(img_bytes))\n",
    "            r_images.append(img)\n",
    "            r_titles.append(f\"{imgno} - {category}\")\n",
    "        except Exception as e:\n",
    "            print(f\"IMGNO {imgno} 오류: {e}\")\n",
    "    else:\n",
    "        print(f\"IMGNO {imgno}는 이미지가 없습니다.\")\n",
    "\n",
    "# 1*3 그리드 디스플레이\n",
    "print(\"벡터 검색 결과\")\n",
    "\n",
    "fig, axes = plt.subplots(1, 3, figsize=(10, 5))\n",
    "\n",
    "for i in range(3):\n",
    "    ax = axes[i]\n",
    "    if i < len(r_images):\n",
    "        ax.imshow(r_images[i])\n",
    "        ax.set_title(r_titles[i], fontsize=12)\n",
    "    ax.axis('off')\n",
    "\n",
    "plt.tight_layout()\n",
    "plt.show()"
   ]
  },
  {
   "cell_type": "markdown",
   "id": "497e9202-cd76-427d-ad83-cfa22ab3a6e7",
   "metadata": {},
   "source": [
    "---------------------\n",
    "이미지 벡터 검색. 끝."
   ]
  },
  {
   "cell_type": "code",
   "execution_count": null,
   "id": "7dcc3e47-44dc-4983-8a55-84f6d0b1a7e7",
   "metadata": {
    "collapsed": true,
    "jupyter": {
     "outputs_hidden": true,
     "source_hidden": true
    }
   },
   "outputs": [],
   "source": []
  }
 ],
 "metadata": {
  "kernelspec": {
   "display_name": "Python 3 (ipykernel)",
   "language": "python",
   "name": "python3"
  },
  "language_info": {
   "codemirror_mode": {
    "name": "ipython",
    "version": 3
   },
   "file_extension": ".py",
   "mimetype": "text/x-python",
   "name": "python",
   "nbconvert_exporter": "python",
   "pygments_lexer": "ipython3",
   "version": "3.12.9"
  }
 },
 "nbformat": 4,
 "nbformat_minor": 5
}
