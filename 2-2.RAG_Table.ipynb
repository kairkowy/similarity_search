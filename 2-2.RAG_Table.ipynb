{
 "cells": [
  {
   "cell_type": "markdown",
   "id": "75ca7884-8821-4f4f-a1ef-275b3d93b4f5",
   "metadata": {},
   "source": [
    "### RAG 데모 시나리오(테이블 데이터)\n",
    "- 이 시나리오는 테이블 컬럼 정보를 임베딩하여 RAG 실행하는 시나리오입니다."
   ]
  },
  {
   "cell_type": "markdown",
   "id": "eef3eeec-4390-467e-9c96-def8be8da979",
   "metadata": {},
   "source": [
    "### 0. 파이썬 라이브러리 로딩 및 오라클 DB 접속"
   ]
  },
  {
   "cell_type": "code",
   "execution_count": null,
   "id": "790f349b-d3af-4a79-b842-d5ba99e1113f",
   "metadata": {
    "jupyter": {
     "source_hidden": true
    }
   },
   "outputs": [],
   "source": [
    "# 파이썬 라이브러리 로딩 및 오라클 DB 접속\n",
    "import oracledb,oml\n",
    "import re, os, time\n",
    "import pandas as pd\n",
    "import import_ipynb\n",
    "from IPython.display import display\n",
    "from user_functions import get_conn_cursor,get_db_version,exec_sql,exec_sql_rows,dml_sql,ddl_sql,clean_text\n",
    "\n",
    "# DB 접속\n",
    "conn, cursor = get_conn_cursor(\"vector\",\"vector\",\"localhost:1521/freepdb1\")\n",
    "\n",
    "# DB 버전 확인\n",
    "get_db_version(cursor)"
   ]
  },
  {
   "cell_type": "markdown",
   "id": "7b2b3ee7-ff97-4d33-b3a0-c4b0f8f0bdd0",
   "metadata": {},
   "source": [
    "### 1. 테이블 데이터 확인\n",
    "- 벡터 컬럼 초기화 및 인덱스 삭제\n",
    "- broad_tbl 테이블 데이터 조회"
   ]
  },
  {
   "cell_type": "code",
   "execution_count": null,
   "id": "49d0a206-a125-430b-93eb-b515131f8006",
   "metadata": {
    "jupyter": {
     "source_hidden": true
    }
   },
   "outputs": [],
   "source": [
    "# 벡터 컬럼 초기화 및 데이터 조회\n",
    "\n",
    "update_q1 = \"\"\"update broad_tbl set embed_vector = null\"\"\"\n",
    "dml_sql(conn,cursor,update_q1)\n",
    "\n",
    "print(\"벡터 컬럼 초기화 완료\")\n",
    "\n",
    "# 벡터 인덱스 삭제\n",
    "drIdx = \"\"\"drop index if exists broad_tbl_v_idx \"\"\"\n",
    "ddl_sql(cursor,drIdx)\n",
    "print(\"벡터 인덱스 삭제\")\n",
    "\n",
    "# 초기 데이터 조회\n",
    "import pandas as pd\n",
    "data_q = \"\"\" select * from broad_tbl order by 2,1\"\"\"\n",
    "exec_sql(cursor,data_q)"
   ]
  },
  {
   "cell_type": "markdown",
   "id": "47eeae98-016f-4603-af45-a08e2d659529",
   "metadata": {},
   "source": [
    "### 2. \"TITLE\"(보도제목) 값 임베딩\n",
    "- 보도제목을 임베딩하고 인데싱까지 실행\n",
    "- 임베딩 모델 : PARAPHRASE_MULTILINGUAL_MPNET_BASE_V2"
   ]
  },
  {
   "cell_type": "code",
   "execution_count": null,
   "id": "ce9afead-27b8-4f5e-ac59-011c8891f841",
   "metadata": {
    "jupyter": {
     "source_hidden": true
    }
   },
   "outputs": [],
   "source": [
    "# \"TITLE\"(문서제목) 값 임베딩 \n",
    "# 임베딩 모델 : PARAPHRASE_MULTILINGUAL_MPNET_BASE_V2\n",
    "# 임베딩 유틸리티 : utl_to_embedding\n",
    "\n",
    "embedding_param = \"\"\"{\"provider\":\"database\", \"model\":\"PARAPHRASE_MULTILINGUAL_MPNET_BASE_V2\"}\"\"\"\n",
    "# execute embedding using update query\n",
    "data_q = \"\"\"\n",
    "SELECT  보도번호, 보도제목 FROM broad_tbl\n",
    "\"\"\"\n",
    "# update query\n",
    "embed_q = \"\"\"update broad_tbl set embed_vector = \n",
    "                               (dbms_vector.utl_to_embedding(:title, json(:embedding_param)))\n",
    "             where 보도번호 = :dno\"\"\"\n",
    "\n",
    "binds = []\n",
    "\n",
    "import time\n",
    "start_time = time.time()\n",
    "\n",
    "cursor.execute(data_q)\n",
    "while True:\n",
    "    row = cursor.fetchone()\n",
    "    if row is None:\n",
    "        break\n",
    "    dno = row[0]\n",
    "    title = row[1]\n",
    "    embedding_param = embedding_param\n",
    "    binds.append([title,embedding_param,dno])\n",
    "#print(binds)\n",
    "print(\"모델 PARAPHRASE_MULTILINGUAL_MPNET_BASE_V2 with oracle 이용하여 임베딩 생성중입니다......\")\n",
    "cursor.executemany(embed_q,binds)\n",
    "conn.commit()\n",
    "\n",
    "execute_time = time.time() - start_time\n",
    "print(\"임베딩 시간(Ollama 임베딩 + 테이블 저장) :\", execute_time)\n",
    "print(\"임베딩 완료\")\n",
    "\n",
    "# 벡터 인덱싱\n",
    "crIdx = \"\"\"create vector index broad_tbl_v_idx on broad_tbl(embed_vector) ORGANIZATION INMEMORY NEIGHBOR GRAPH WITH DISTANCE COSINE \"\"\"\n",
    "ddl_sql(cursor,crIdx)\n",
    "print(\"벡터 인덱싱 완료\")"
   ]
  },
  {
   "cell_type": "markdown",
   "id": "a58e7e6e-9027-4528-ba60-02bb1208b565",
   "metadata": {},
   "source": [
    "### 3. RAG 실행\n",
    "- RAG 실행 순서는 1. 사용자 질의 문장에 대한 DB 벡터 검색, 2. 벡터 검색 결과를 참조하는 프롬프트 생성, 3. 프로프트를 LLM에 전달, 답변 요청, 4. LLM 답변\n",
    "- langchain API 사용\n",
    "- LLM : LLAMA3.2 on local ollama"
   ]
  },
  {
   "cell_type": "code",
   "execution_count": null,
   "id": "c0deeb65-573e-4e8c-9873-fc3533cca2c6",
   "metadata": {
    "jupyter": {
     "source_hidden": true
    }
   },
   "outputs": [],
   "source": [
    "# RAG 실행\n",
    "## LLM : llama3.2 on ollama\n",
    "\n",
    "# 1. 질의 입력 및 벡터 검색\n",
    "print(\"질문 입력 예: 국방부에서 보도한 2025년도 군무원 채용 필기시험 보도자료 찾아줘 \")\n",
    "user_q = input(\"찾으실 문장을 입력하세요:  \")\n",
    "\n",
    "top_k = 3\n",
    "\n",
    "# 벡터 쿼리\n",
    "content_q = \"\"\" \n",
    "select dt.보도번호, dt.보도제목, dt.보도일자, dt.부처명 as 주무부처, dt.주무부서, round(1- vector_distance(embed_vector, \n",
    "                                             (dbms_vector.utl_to_embedding(:user_q, json(:embedding_param))), \n",
    "                                          cosine),2) 유사도\n",
    "from broad_tbl dt\n",
    "order by vector_distance(embed_vector,\n",
    "                        (dbms_vector.utl_to_embedding(:user_q, \n",
    "                                                     json(:embedding_param))), cosine)\n",
    "fetch approximate first :top_k rows only\n",
    "\"\"\"\n",
    "import time\n",
    "start_time = time.time()\n",
    "print(\"벡터검색중입니다......\")\n",
    "rows = exec_sql(cursor,content_q,{\"user_q\":user_q,\"embedding_param\":embedding_param,\"top_k\":top_k})\n",
    "execute_time = time.time() - start_time\n",
    "print(\" 벡터검색 시간(질문 임베딩 + 벡터쿼리 실행):\",execute_time)\n",
    "\n",
    "# convert to content\n",
    "content = rows\n",
    "# 3. 프로프트 생성\n",
    "\n",
    "from langchain_core.prompts import ChatPromptTemplate\n",
    "from langchain_ollama.llms import OllamaLLM\n",
    "\n",
    "user_question = user_q\n",
    "\n",
    "## 프롬프트 생성 \n",
    "template = \"\"\"\n",
    "CONTEXT 정보에서만 답변을 작성해주세요.\n",
    "답변은 보도제목, 보도번호, 주무부처, 주무부서, 작성일자를 포함하세요. 답변출력에는 유사도가 가장 높은 것 하나를 출력하세요.\n",
    "CONTEXT : {context}\n",
    "[INST]QUESTION : {question}[/INST]\n",
    "\"\"\"\n",
    "print(\"-----------------------------------------------------------\")\n",
    "print(\"백터검색 결과를 이용하여 langchain-ollama 프롬프트를 생성했습니다.\")\n",
    "print(\"프롬프트\\n\",template)\n",
    "## 프롬프트 생성\n",
    "\n",
    "prompt = ChatPromptTemplate.from_template(template)\n",
    "#print(\"생성된 프롬프트\")\n",
    "#display(prompt)\n",
    "\n",
    "# LLM 답변 생성\n",
    "\n",
    "print(\"llama3.2가 답변을 생성중입니다......\")\n",
    "\n",
    "model = OllamaLLM(model=\"llama3.2\", max_new_tokens= 2048 ,temperature=0.1, base_url='http://180.68.194.221:11434')\n",
    "chain = prompt | model \n",
    "\n",
    "# LLM 응답\n",
    "result = chain.invoke({\"context\":content,\"question\": user_question})\n",
    "print(\"--------------------------------------------------------------\")\n",
    "print(\"LLM 응답\")\n",
    "print(result)"
   ]
  },
  {
   "cell_type": "markdown",
   "id": "28e7d741-d874-4593-b381-ee197514752d",
   "metadata": {},
   "source": [
    "-------------------------"
   ]
  },
  {
   "cell_type": "markdown",
   "id": "6a6f238c-2953-4136-9e99-4e01699006da",
   "metadata": {},
   "source": [
    "시나리오 종료"
   ]
  }
 ],
 "metadata": {
  "kernelspec": {
   "display_name": "Python 3 (ipykernel)",
   "language": "python",
   "name": "python3"
  },
  "language_info": {
   "codemirror_mode": {
    "name": "ipython",
    "version": 3
   },
   "file_extension": ".py",
   "mimetype": "text/x-python",
   "name": "python",
   "nbconvert_exporter": "python",
   "pygments_lexer": "ipython3",
   "version": "3.12.9"
  }
 },
 "nbformat": 4,
 "nbformat_minor": 5
}
