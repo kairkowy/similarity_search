{
 "cells": [
  {
   "cell_type": "markdown",
   "id": "c32e414f-f27f-4d6e-886b-06125aa92294",
   "metadata": {},
   "source": [
    "----------------------------------------\n",
    "### 벡터검색 시나리오\n",
    "이 시나리오는DB에 저장되어 있는 문서(pdf,hwpx)를 문장 임베딩 모델을 사용하여 유사 문서를 검색하는 데모입니다."
   ]
  },
  {
   "cell_type": "markdown",
   "id": "8a8e1a6c-f193-4d95-9002-64a2c49de4f6",
   "metadata": {},
   "source": [
    "### 0. 파이썬 라이브러리 로딩 및 23ai "
   ]
  },
  {
   "cell_type": "code",
   "execution_count": 1,
   "id": "df87e569-e855-467c-b010-d40078ae11bd",
   "metadata": {
    "collapsed": true,
    "jupyter": {
     "outputs_hidden": true,
     "source_hidden": true
    }
   },
   "outputs": [
    {
     "data": {
      "text/html": [
       "<div>\n",
       "<style scoped>\n",
       "    .dataframe tbody tr th:only-of-type {\n",
       "        vertical-align: middle;\n",
       "    }\n",
       "\n",
       "    .dataframe tbody tr th {\n",
       "        vertical-align: top;\n",
       "    }\n",
       "\n",
       "    .dataframe thead th {\n",
       "        text-align: right;\n",
       "    }\n",
       "</style>\n",
       "<table border=\"1\" class=\"dataframe\">\n",
       "  <thead>\n",
       "    <tr style=\"text-align: right;\">\n",
       "      <th></th>\n",
       "      <th>PRODUCT</th>\n",
       "      <th>VERSION_FULL</th>\n",
       "    </tr>\n",
       "  </thead>\n",
       "  <tbody>\n",
       "    <tr>\n",
       "      <th>0</th>\n",
       "      <td>Oracle Database 23ai Free</td>\n",
       "      <td>23.8.0.25.04</td>\n",
       "    </tr>\n",
       "  </tbody>\n",
       "</table>\n",
       "</div>"
      ],
      "text/plain": [
       "                     PRODUCT  VERSION_FULL\n",
       "0  Oracle Database 23ai Free  23.8.0.25.04"
      ]
     },
     "execution_count": 1,
     "metadata": {},
     "output_type": "execute_result"
    }
   ],
   "source": [
    "# 23ai 접속 및 라이브러리 로딩\n",
    "import oracledb\n",
    "import oml\n",
    "import pandas as pd\n",
    "import import_ipynb\n",
    "from IPython.display import display\n",
    "from user_functions import get_conn_cursor, get_db_version, exec_sql, dml_sql, ddl_sql, clean_text\n",
    "\n",
    "#print(\"Complete load libries\")\n",
    "\n",
    "# DB 접속\n",
    "conn, cursor = get_conn_cursor(\"vector\",\"vector\",\"localhost:1521/freepdb1\")\n",
    "\n",
    "# DB 버전 확인\n",
    "get_db_version(cursor)"
   ]
  },
  {
   "cell_type": "markdown",
   "id": "a35fa0b9-0927-44f1-a9a8-2290b9468809",
   "metadata": {},
   "source": [
    "### 1. 샘플 테이블(doc_store) 데이터 조회\n",
    "- docno varchar(10) primary key\n",
    "- doc_dept varchar(40)\n",
    "- doc_cr_date varchar(20)\n",
    "- doc_name varchar2(200)\n",
    "- doc blob"
   ]
  },
  {
   "cell_type": "code",
   "execution_count": 2,
   "id": "92502dcf-d367-4a1d-8386-787084c6dbaa",
   "metadata": {
    "collapsed": true,
    "jupyter": {
     "outputs_hidden": true,
     "source_hidden": true
    }
   },
   "outputs": [
    {
     "data": {
      "text/html": [
       "<div>\n",
       "<style scoped>\n",
       "    .dataframe tbody tr th:only-of-type {\n",
       "        vertical-align: middle;\n",
       "    }\n",
       "\n",
       "    .dataframe tbody tr th {\n",
       "        vertical-align: top;\n",
       "    }\n",
       "\n",
       "    .dataframe thead th {\n",
       "        text-align: right;\n",
       "    }\n",
       "</style>\n",
       "<table border=\"1\" class=\"dataframe\">\n",
       "  <thead>\n",
       "    <tr style=\"text-align: right;\">\n",
       "      <th></th>\n",
       "      <th>DOCNO</th>\n",
       "      <th>DOC_DEPT</th>\n",
       "      <th>DOC_CR_DATE</th>\n",
       "      <th>DOC_NAME</th>\n",
       "    </tr>\n",
       "  </thead>\n",
       "  <tbody>\n",
       "    <tr>\n",
       "      <th>0</th>\n",
       "      <td>80-1</td>\n",
       "      <td>국방부</td>\n",
       "      <td>20250531</td>\n",
       "      <td>국방정책실장 미국 상하원 대표단 면담</td>\n",
       "    </tr>\n",
       "    <tr>\n",
       "      <th>1</th>\n",
       "      <td>80-2</td>\n",
       "      <td>국방부</td>\n",
       "      <td>20250704</td>\n",
       "      <td>화생방사 국제 화학방호교육</td>\n",
       "    </tr>\n",
       "    <tr>\n",
       "      <th>2</th>\n",
       "      <td>80-3</td>\n",
       "      <td>국방부</td>\n",
       "      <td>20257011</td>\n",
       "      <td>미국 B-52H 전략폭격기 전개하 한미일 공중훈 시행</td>\n",
       "    </tr>\n",
       "    <tr>\n",
       "      <th>3</th>\n",
       "      <td>80-4</td>\n",
       "      <td>국방부</td>\n",
       "      <td>20250715</td>\n",
       "      <td>2025일본방위백서기술내용관련항의</td>\n",
       "    </tr>\n",
       "    <tr>\n",
       "      <th>4</th>\n",
       "      <td>80-5</td>\n",
       "      <td>국방부</td>\n",
       "      <td>20250721</td>\n",
       "      <td>사이버 작전사령부 美 사이버플래그훈련 참가</td>\n",
       "    </tr>\n",
       "    <tr>\n",
       "      <th>5</th>\n",
       "      <td>10-1</td>\n",
       "      <td>기획재정부</td>\n",
       "      <td>20250710</td>\n",
       "      <td>광역 교통망 확충 3개 사업 예타 통과로 대도교통혼잡 해소기대</td>\n",
       "    </tr>\n",
       "    <tr>\n",
       "      <th>6</th>\n",
       "      <td>10-2</td>\n",
       "      <td>기획재정부</td>\n",
       "      <td>20250716</td>\n",
       "      <td>임신공무원하루2시간모성보호시간사용보장</td>\n",
       "    </tr>\n",
       "    <tr>\n",
       "      <th>7</th>\n",
       "      <td>10-3</td>\n",
       "      <td>기획재정부</td>\n",
       "      <td>20250717</td>\n",
       "      <td>하반기관세대응수출금융설명회개최</td>\n",
       "    </tr>\n",
       "    <tr>\n",
       "      <th>8</th>\n",
       "      <td>10-4</td>\n",
       "      <td>기획재정부</td>\n",
       "      <td>20250718</td>\n",
       "      <td>공급망등 경제안보 분야에서 통상 환경변화를 고려한 대응전략 고도화</td>\n",
       "    </tr>\n",
       "    <tr>\n",
       "      <th>9</th>\n",
       "      <td>20-1</td>\n",
       "      <td>행정안전부</td>\n",
       "      <td>20250715</td>\n",
       "      <td>지방공무원 관리자 역량 끌어올릴 역량교육 전문가 양성한다</td>\n",
       "    </tr>\n",
       "    <tr>\n",
       "      <th>10</th>\n",
       "      <td>20-2</td>\n",
       "      <td>행정안전부</td>\n",
       "      <td>20250717</td>\n",
       "      <td>고향사랑기부로 불어 넣은 지역 활력 2025년상반기모금결과공개</td>\n",
       "    </tr>\n",
       "    <tr>\n",
       "      <th>11</th>\n",
       "      <td>20-3</td>\n",
       "      <td>행정안전부</td>\n",
       "      <td>20250718</td>\n",
       "      <td>간부 모시는날 등 불합리한 관행타파 지속 노력</td>\n",
       "    </tr>\n",
       "    <tr>\n",
       "      <th>12</th>\n",
       "      <td>20-5</td>\n",
       "      <td>행정안전부</td>\n",
       "      <td>20270721</td>\n",
       "      <td>호우피해 수습을 위한 피해자 통합지원센터 운영</td>\n",
       "    </tr>\n",
       "    <tr>\n",
       "      <th>13</th>\n",
       "      <td>20-6</td>\n",
       "      <td>행정안전부</td>\n",
       "      <td>20250721</td>\n",
       "      <td>민생회복 소비쿠폰 관련 시스템 운영상황 현장점검</td>\n",
       "    </tr>\n",
       "    <tr>\n",
       "      <th>14</th>\n",
       "      <td>20-7</td>\n",
       "      <td>행정안전부</td>\n",
       "      <td>20250722</td>\n",
       "      <td>물놀이 사망 7월 하순에 최다 안전수칙지키며 안전하게 물놀이즐겨요</td>\n",
       "    </tr>\n",
       "    <tr>\n",
       "      <th>15</th>\n",
       "      <td>20-4</td>\n",
       "      <td>행정안정부</td>\n",
       "      <td>20250720</td>\n",
       "      <td>호우 피해지역 가전제품 무상수리팀 운영</td>\n",
       "    </tr>\n",
       "  </tbody>\n",
       "</table>\n",
       "</div>"
      ],
      "text/plain": [
       "   DOCNO DOC_DEPT DOC_CR_DATE                              DOC_NAME\n",
       "0   80-1      국방부    20250531                  국방정책실장 미국 상하원 대표단 면담\n",
       "1   80-2      국방부    20250704                        화생방사 국제 화학방호교육\n",
       "2   80-3      국방부    20257011         미국 B-52H 전략폭격기 전개하 한미일 공중훈 시행\n",
       "3   80-4      국방부    20250715                    2025일본방위백서기술내용관련항의\n",
       "4   80-5      국방부    20250721               사이버 작전사령부 美 사이버플래그훈련 참가\n",
       "5   10-1    기획재정부    20250710    광역 교통망 확충 3개 사업 예타 통과로 대도교통혼잡 해소기대\n",
       "6   10-2    기획재정부    20250716                  임신공무원하루2시간모성보호시간사용보장\n",
       "7   10-3    기획재정부    20250717                      하반기관세대응수출금융설명회개최\n",
       "8   10-4    기획재정부    20250718  공급망등 경제안보 분야에서 통상 환경변화를 고려한 대응전략 고도화\n",
       "9   20-1    행정안전부    20250715       지방공무원 관리자 역량 끌어올릴 역량교육 전문가 양성한다\n",
       "10  20-2    행정안전부    20250717    고향사랑기부로 불어 넣은 지역 활력 2025년상반기모금결과공개\n",
       "11  20-3    행정안전부    20250718             간부 모시는날 등 불합리한 관행타파 지속 노력\n",
       "12  20-5    행정안전부    20270721             호우피해 수습을 위한 피해자 통합지원센터 운영\n",
       "13  20-6    행정안전부    20250721            민생회복 소비쿠폰 관련 시스템 운영상황 현장점검\n",
       "14  20-7    행정안전부    20250722  물놀이 사망 7월 하순에 최다 안전수칙지키며 안전하게 물놀이즐겨요\n",
       "15  20-4    행정안정부    20250720                 호우 피해지역 가전제품 무상수리팀 운영"
      ]
     },
     "execution_count": 2,
     "metadata": {},
     "output_type": "execute_result"
    }
   ],
   "source": [
    "# 샘플(doc_store) 테이블 데이터 조회\n",
    "\n",
    "q1 = \"\"\" select docno, doc_dept, doc_cr_date, doc_name from doc_store order by 2, 1 \"\"\"\n",
    "exec_sql(cursor,q1)"
   ]
  },
  {
   "cell_type": "markdown",
   "id": "b211c8b4-316b-4978-9c51-dd3171cae2db",
   "metadata": {},
   "source": [
    "### 2. 임베딩 모델 및 쿼리 임베딩 확인\n",
    "- 이 데모에서는 DB에 저장된 엠베딩 모델을 사용합니다.\n",
    "- 쿼리 임베딩 방법은 오라클 벡터 함수(dbms_vector_chain)을 사용하여 DB에 저장된 문서에서 텍스트 추출(utl_to_text)->청킹(utl_to_chunks)->임베딩(utl_to_embedding)을 단일 라인 코드로 실행"
   ]
  },
  {
   "cell_type": "code",
   "execution_count": 3,
   "id": "c004f8da-493b-4c88-b8de-67b1b16a555f",
   "metadata": {
    "collapsed": true,
    "jupyter": {
     "outputs_hidden": true,
     "source_hidden": true
    }
   },
   "outputs": [
    {
     "name": "stdout",
     "output_type": "stream",
     "text": [
      "DB관리중인 ONNX 모델\n"
     ]
    },
    {
     "data": {
      "text/html": [
       "<div>\n",
       "<style scoped>\n",
       "    .dataframe tbody tr th:only-of-type {\n",
       "        vertical-align: middle;\n",
       "    }\n",
       "\n",
       "    .dataframe tbody tr th {\n",
       "        vertical-align: top;\n",
       "    }\n",
       "\n",
       "    .dataframe thead th {\n",
       "        text-align: right;\n",
       "    }\n",
       "</style>\n",
       "<table border=\"1\" class=\"dataframe\">\n",
       "  <thead>\n",
       "    <tr style=\"text-align: right;\">\n",
       "      <th></th>\n",
       "      <th>MODEL_NAME</th>\n",
       "      <th>MINING_FUNCTION</th>\n",
       "      <th>ALGORITHM</th>\n",
       "      <th>ALGORITHM_TYPE</th>\n",
       "      <th>MB</th>\n",
       "    </tr>\n",
       "  </thead>\n",
       "  <tbody>\n",
       "    <tr>\n",
       "      <th>0</th>\n",
       "      <td>MULTILINGUAL_E5_SMALL</td>\n",
       "      <td>EMBEDDING</td>\n",
       "      <td>ONNX</td>\n",
       "      <td>NATIVE</td>\n",
       "      <td>117.378383</td>\n",
       "    </tr>\n",
       "    <tr>\n",
       "      <th>1</th>\n",
       "      <td>PARAPHRASE_MULTILINGUAL_MPNET_BASE_V2</td>\n",
       "      <td>EMBEDDING</td>\n",
       "      <td>ONNX</td>\n",
       "      <td>NATIVE</td>\n",
       "      <td>270.086040</td>\n",
       "    </tr>\n",
       "    <tr>\n",
       "      <th>2</th>\n",
       "      <td>VIT_BASE_PATCH16_224</td>\n",
       "      <td>EMBEDDING</td>\n",
       "      <td>ONNX</td>\n",
       "      <td>NATIVE</td>\n",
       "      <td>327.618084</td>\n",
       "    </tr>\n",
       "    <tr>\n",
       "      <th>3</th>\n",
       "      <td>VIT_BASE_PATCH16_224_IMG</td>\n",
       "      <td>EMBEDDING</td>\n",
       "      <td>ONNX</td>\n",
       "      <td>NATIVE</td>\n",
       "      <td>292.181850</td>\n",
       "    </tr>\n",
       "    <tr>\n",
       "      <th>4</th>\n",
       "      <td>VIT_BASE_PATCH16_224_TXT</td>\n",
       "      <td>EMBEDDING</td>\n",
       "      <td>ONNX</td>\n",
       "      <td>NATIVE</td>\n",
       "      <td>119.933461</td>\n",
       "    </tr>\n",
       "  </tbody>\n",
       "</table>\n",
       "</div>"
      ],
      "text/plain": [
       "                              MODEL_NAME MINING_FUNCTION ALGORITHM  \\\n",
       "0                  MULTILINGUAL_E5_SMALL       EMBEDDING      ONNX   \n",
       "1  PARAPHRASE_MULTILINGUAL_MPNET_BASE_V2       EMBEDDING      ONNX   \n",
       "2                   VIT_BASE_PATCH16_224       EMBEDDING      ONNX   \n",
       "3               VIT_BASE_PATCH16_224_IMG       EMBEDDING      ONNX   \n",
       "4               VIT_BASE_PATCH16_224_TXT       EMBEDDING      ONNX   \n",
       "\n",
       "  ALGORITHM_TYPE          MB  \n",
       "0         NATIVE  117.378383  \n",
       "1         NATIVE  270.086040  \n",
       "2         NATIVE  327.618084  \n",
       "3         NATIVE  292.181850  \n",
       "4         NATIVE  119.933461  "
      ]
     },
     "execution_count": 3,
     "metadata": {},
     "output_type": "execute_result"
    }
   ],
   "source": [
    "# DB관리중인 ONNX 모델 조회\n",
    "managed_models = 'SELECT MODEL_NAME, MINING_FUNCTION, ALGORITHM, ALGORITHM_TYPE, (MODEL_SIZE/1024/1024) MB FROM user_mining_models ORDER BY MODEL_NAME'\n",
    "print(\"DB관리중인 ONNX 모델\")\n",
    "exec_sql(cursor,managed_models)"
   ]
  },
  {
   "cell_type": "code",
   "execution_count": 12,
   "id": "1b222867-64e3-49f7-8743-9716632488b5",
   "metadata": {
    "collapsed": true,
    "jupyter": {
     "outputs_hidden": true,
     "source_hidden": true
    }
   },
   "outputs": [
    {
     "name": "stdout",
     "output_type": "stream",
     "text": [
      "임베딩 모델 : PARAPHRASE_MULTILINGUAL_MPNET_BASE_V2\n"
     ]
    },
    {
     "data": {
      "text/html": [
       "<div>\n",
       "<style scoped>\n",
       "    .dataframe tbody tr th:only-of-type {\n",
       "        vertical-align: middle;\n",
       "    }\n",
       "\n",
       "    .dataframe tbody tr th {\n",
       "        vertical-align: top;\n",
       "    }\n",
       "\n",
       "    .dataframe thead th {\n",
       "        text-align: right;\n",
       "    }\n",
       "</style>\n",
       "<table border=\"1\" class=\"dataframe\">\n",
       "  <thead>\n",
       "    <tr style=\"text-align: right;\">\n",
       "      <th></th>\n",
       "      <th>DOCNO</th>\n",
       "      <th>CHUNK_ID</th>\n",
       "      <th>CHUNKED_DATA</th>\n",
       "      <th>EMBED_VECTOR</th>\n",
       "    </tr>\n",
       "  </thead>\n",
       "  <tbody>\n",
       "    <tr>\n",
       "      <th>0</th>\n",
       "      <td>10-3</td>\n",
       "      <td>1</td>\n",
       "      <td>보도시점 2025. 7. 17.(목) 16:00 배포 2025. 7. 17.(목) 14:00 하반기 관세대응 수출금융 설명회 개최 - 원스톱 수출･수주지원단, 6개 정책금융...</td>\n",
       "      <td>[-0.008440015837550163, -0.014268845319747925, -0.007599708624184132, 0.006944766268134117, 0.01...</td>\n",
       "    </tr>\n",
       "    <tr>\n",
       "      <th>1</th>\n",
       "      <td>10-3</td>\n",
       "      <td>2</td>\n",
       "      <td>(Fin-eX: 수출입은행, 무역 보험공사, 중소벤처기업진흥공단, 신용보증기금, 기술보증기금, IBK기업은행)와 140여개 기업이 참석했다. 이번 설명회는 통상환경 변화에 ...</td>\n",
       "      <td>[-0.04923214390873909, -0.032898783683776855, -0.003978660795837641, -0.010259585455060005, 0.03...</td>\n",
       "    </tr>\n",
       "    <tr>\n",
       "      <th>2</th>\n",
       "      <td>10-3</td>\n",
       "      <td>3</td>\n",
       "      <td>(수은), 통상리스크대응긴급자금(중진공)등 미국 관세 대응에 필요한 자금지원 방안도 종합적으로 안내되었다. 지원단은 앞으로도 우리 수출기업들이 美 통상정책의 불확실성에 신속...</td>\n",
       "      <td>[-0.0025694682262837887, -0.005203770473599434, -0.004503738135099411, -0.009448950178921223, 0....</td>\n",
       "    </tr>\n",
       "    <tr>\n",
       "      <th>3</th>\n",
       "      <td>10-3</td>\n",
       "      <td>4</td>\n",
       "      <td>불확실한통상환경속에서중소‧중견기업대상수출금융· 보증등맞춤형수출금융정보제공및활용독려추진 ㅇ 6개정책금융기관*이공동으로참여하는수출금융설명회로,기업 수요에맞는금융지원정보를효율적‧...</td>\n",
       "      <td>[-0.0004947329289279878, 0.021538984030485153, -0.010122720152139664, -0.01979854889214039, 0.02...</td>\n",
       "    </tr>\n",
       "    <tr>\n",
       "      <th>4</th>\n",
       "      <td>10-3</td>\n",
       "      <td>5</td>\n",
       "      <td>(10분)인사말씀 및 행사순서 안내 무역협회14:10~16:10 (120분)기관별 주요 지원사업 소개 (기관당 20분: 발표 10분, Q&amp;A 10분) * ➊수출입은행 → ➋...</td>\n",
       "      <td>[-0.0365537591278553, -0.010705417022109032, -0.004355018958449364, -0.005673778709024191, 0.022...</td>\n",
       "    </tr>\n",
       "  </tbody>\n",
       "</table>\n",
       "</div>"
      ],
      "text/plain": [
       "  DOCNO  CHUNK_ID  \\\n",
       "0  10-3         1   \n",
       "1  10-3         2   \n",
       "2  10-3         3   \n",
       "3  10-3         4   \n",
       "4  10-3         5   \n",
       "\n",
       "                                                                                          CHUNKED_DATA  \\\n",
       "0  보도시점 2025. 7. 17.(목) 16:00 배포 2025. 7. 17.(목) 14:00 하반기 관세대응 수출금융 설명회 개최 - 원스톱 수출･수주지원단, 6개 정책금융...   \n",
       "1  (Fin-eX: 수출입은행, 무역 보험공사, 중소벤처기업진흥공단, 신용보증기금, 기술보증기금, IBK기업은행)와 140여개 기업이 참석했다. 이번 설명회는 통상환경 변화에 ...   \n",
       "2  (수은), 통상리스크대응긴급자금(중진공)등 미국 관세 대응에 필요한 자금지원 방안도 종합적으로 안내되었다. 지원단은 앞으로도 우리 수출기업들이 美 통상정책의 불확실성에 신속...   \n",
       "3  불확실한통상환경속에서중소‧중견기업대상수출금융· 보증등맞춤형수출금융정보제공및활용독려추진 ㅇ 6개정책금융기관*이공동으로참여하는수출금융설명회로,기업 수요에맞는금융지원정보를효율적‧...   \n",
       "4  (10분)인사말씀 및 행사순서 안내 무역협회14:10~16:10 (120분)기관별 주요 지원사업 소개 (기관당 20분: 발표 10분, Q&A 10분) * ➊수출입은행 → ➋...   \n",
       "\n",
       "                                                                                          EMBED_VECTOR  \n",
       "0  [-0.008440015837550163, -0.014268845319747925, -0.007599708624184132, 0.006944766268134117, 0.01...  \n",
       "1  [-0.04923214390873909, -0.032898783683776855, -0.003978660795837641, -0.010259585455060005, 0.03...  \n",
       "2  [-0.0025694682262837887, -0.005203770473599434, -0.004503738135099411, -0.009448950178921223, 0....  \n",
       "3  [-0.0004947329289279878, 0.021538984030485153, -0.010122720152139664, -0.01979854889214039, 0.02...  \n",
       "4  [-0.0365537591278553, -0.010705417022109032, -0.004355018958449364, -0.005673778709024191, 0.022...  "
      ]
     },
     "metadata": {},
     "output_type": "display_data"
    }
   ],
   "source": [
    "# 임베딩 벡터 데이터 확인\n",
    "print(\"임베딩 모델 : PARAPHRASE_MULTILINGUAL_MPNET_BASE_V2\")\n",
    "get_vector = \"\"\"select dt.docno as docno,et.embed_id as chunk_id, et.embed_data as chunked_data, to_vector(et.embed_vector) embed_vector\n",
    "from doc_store dt,\n",
    "   dbms_vector_chain.utl_to_embeddings(\n",
    "       dbms_vector_chain.utl_to_chunks(dbms_vector_chain.utl_to_text(dt.doc), \n",
    "       json('{ \"by\" : \"words\",\"max\" : \"100\", \"overlap\" : \"10\",\"split\" : \"newline\", \"language\" : \"korean\",\"normalize\": \"all\"}')),\n",
    "       json('{\"provider\":\"database\", \"model\":\"PARAPHRASE_MULTILINGUAL_MPNET_BASE_V2\"}')) t,\n",
    "   JSON_TABLE(t.column_value, '$' columns (embed_id number,embed_data varchar2(4000), embed_vector CLOB)) et\n",
    "where dt.docno = :get_docno\n",
    "fetch first 10 rows only\n",
    "\"\"\"\n",
    "pd.set_option('display.max_colwidth', 100)\n",
    "result = exec_sql(cursor,get_vector,{\"get_docno\":\"10-3\"})\n",
    "result = clean_text(result)\n",
    "result['CHUNKED_DATA']=result['CHUNKED_DATA'].str.replace('\\n', '', regex=False)\n",
    "display(result)"
   ]
  },
  {
   "cell_type": "markdown",
   "id": "264cc1b2-ecdb-48b8-b487-c01d364cebe3",
   "metadata": {},
   "source": [
    "### 3. 데이터 임베딩 및 인덱싱\n",
    "- doc_store의 모든 문서의 텍스트를 추출, 워드 100개 단위로 청킹 후, 청크별로 벡터라이징(임베딩)하여 doc_store_chunks 테이블의 벡터 컬럼에 저장"
   ]
  },
  {
   "cell_type": "code",
   "execution_count": 6,
   "id": "40686a4f-7b9a-4510-8d46-560154a80079",
   "metadata": {
    "collapsed": true,
    "jupyter": {
     "outputs_hidden": true,
     "source_hidden": true
    }
   },
   "outputs": [
    {
     "data": {
      "text/plain": [
       "'complete commit for DML'"
      ]
     },
     "execution_count": 6,
     "metadata": {},
     "output_type": "execute_result"
    }
   ],
   "source": [
    "# 기존 데이터 삭제\n",
    "remove_old_data = \"truncate table doc_store_chunks\"\n",
    "dml_sql(conn,cursor,remove_old_data)"
   ]
  },
  {
   "cell_type": "code",
   "execution_count": 7,
   "id": "a83f32cf-30d4-4dd5-bc73-c84cac9f800c",
   "metadata": {
    "collapsed": true,
    "jupyter": {
     "outputs_hidden": true,
     "source_hidden": true
    }
   },
   "outputs": [
    {
     "name": "stdout",
     "output_type": "stream",
     "text": [
      "벡터라이징 및 저장중입니다........\n"
     ]
    },
    {
     "data": {
      "text/plain": [
       "'complete commit for DML'"
      ]
     },
     "execution_count": 7,
     "metadata": {},
     "output_type": "execute_result"
    }
   ],
   "source": [
    "# 임베딩 & 벡터 저장\n",
    "load_vector = \"\"\"insert into doc_store_chunks\n",
    "select dt.docno as docno,et.embed_id as chunk_id, et.embed_data as chunked_data, to_vector(et.embed_vector) embed_vector\n",
    "from doc_store dt,\n",
    "   dbms_vector_chain.utl_to_embeddings(\n",
    "       dbms_vector_chain.utl_to_chunks(dbms_vector_chain.utl_to_text(dt.doc), \n",
    "       json('{ \"by\" : \"words\",\"max\" : \"100\", \"overlap\" : \"10\",\"split\" : \"newline\", \"language\" : \"korean\",\"normalize\": \"all\"}')),\n",
    "       json('{\"provider\":\"database\", \"model\":\"PARAPHRASE_MULTILINGUAL_MPNET_BASE_V2\"}')) t,\n",
    "   JSON_TABLE(t.column_value, '$' columns (embed_id number,embed_data varchar2(4000), embed_vector CLOB)) et\n",
    "\"\"\"\n",
    "print(\"벡터라이징 및 저장중입니다........\")\n",
    "dml_sql(conn,cursor,load_vector)"
   ]
  },
  {
   "cell_type": "code",
   "execution_count": 8,
   "id": "a06b6bc8-f4d1-4805-84cf-ecd6de375464",
   "metadata": {
    "collapsed": true,
    "jupyter": {
     "outputs_hidden": true,
     "source_hidden": true
    }
   },
   "outputs": [
    {
     "data": {
      "text/html": [
       "<div>\n",
       "<style scoped>\n",
       "    .dataframe tbody tr th:only-of-type {\n",
       "        vertical-align: middle;\n",
       "    }\n",
       "\n",
       "    .dataframe tbody tr th {\n",
       "        vertical-align: top;\n",
       "    }\n",
       "\n",
       "    .dataframe thead th {\n",
       "        text-align: right;\n",
       "    }\n",
       "</style>\n",
       "<table border=\"1\" class=\"dataframe\">\n",
       "  <thead>\n",
       "    <tr style=\"text-align: right;\">\n",
       "      <th></th>\n",
       "      <th>TABLE_NAME</th>\n",
       "      <th>INDEX_NAME</th>\n",
       "      <th>INDEX_TYPE</th>\n",
       "      <th>INDEX_SUBTYPE</th>\n",
       "      <th>STATUS</th>\n",
       "    </tr>\n",
       "  </thead>\n",
       "  <tbody>\n",
       "    <tr>\n",
       "      <th>0</th>\n",
       "      <td>DOC_STORE_CHUNKS</td>\n",
       "      <td>SYS_IL0000087960C00004$$</td>\n",
       "      <td>LOB</td>\n",
       "      <td>None</td>\n",
       "      <td>VALID</td>\n",
       "    </tr>\n",
       "    <tr>\n",
       "      <th>1</th>\n",
       "      <td>DOC_STORE_CHUNKS</td>\n",
       "      <td>PK_CHUNK</td>\n",
       "      <td>NORMAL</td>\n",
       "      <td>None</td>\n",
       "      <td>VALID</td>\n",
       "    </tr>\n",
       "    <tr>\n",
       "      <th>2</th>\n",
       "      <td>DOC_STORE_CHUNKS</td>\n",
       "      <td>DOC_STORE_CHUNKS_IDX</td>\n",
       "      <td>VECTOR</td>\n",
       "      <td>INMEMORY_NEIGHBOR_GRAPH_HNSW</td>\n",
       "      <td>VALID</td>\n",
       "    </tr>\n",
       "  </tbody>\n",
       "</table>\n",
       "</div>"
      ],
      "text/plain": [
       "         TABLE_NAME                INDEX_NAME INDEX_TYPE  \\\n",
       "0  DOC_STORE_CHUNKS  SYS_IL0000087960C00004$$        LOB   \n",
       "1  DOC_STORE_CHUNKS                  PK_CHUNK     NORMAL   \n",
       "2  DOC_STORE_CHUNKS      DOC_STORE_CHUNKS_IDX     VECTOR   \n",
       "\n",
       "                  INDEX_SUBTYPE STATUS  \n",
       "0                          None  VALID  \n",
       "1                          None  VALID  \n",
       "2  INMEMORY_NEIGHBOR_GRAPH_HNSW  VALID  "
      ]
     },
     "execution_count": 8,
     "metadata": {},
     "output_type": "execute_result"
    }
   ],
   "source": [
    "# 벡터 인덱싱\n",
    "ddl_sql(cursor,\"drop index if exists doc_store_chunks_idx\")\n",
    "\n",
    "# 벡터 인덱싱\n",
    "crIdx = \"\"\"\n",
    "create vector index doc_store_chunks_idx\n",
    "on doc_store_chunks(embed_vector)\n",
    "ORGANIZATION INMEMORY NEIGHBOR GRAPH\n",
    "WITH DISTANCE COSINE\n",
    "\"\"\"\n",
    "ddl_sql(cursor,crIdx)\n",
    "\n",
    "# 벡터 인덱싱 조회\n",
    "idx_q = \"\"\"select table_name, index_name, index_type, index_subtype, status \n",
    "           from user_indexes where \n",
    "           table_name = 'DOC_STORE_CHUNKS'\"\"\"\n",
    "exec_sql(cursor,idx_q)"
   ]
  },
  {
   "cell_type": "markdown",
   "id": "dd281f39-6912-4342-8284-1fe6dd977fd4",
   "metadata": {},
   "source": [
    "### 4. 문서 유사성 검색"
   ]
  },
  {
   "cell_type": "code",
   "execution_count": 13,
   "id": "05539a3a-040c-496c-a74a-7bc1aea39da7",
   "metadata": {
    "collapsed": true,
    "jupyter": {
     "outputs_hidden": true,
     "source_hidden": true
    }
   },
   "outputs": [
    {
     "name": "stdout",
     "output_type": "stream",
     "text": [
      "예: 고향사랑 기부 상반기 모금 결과\n"
     ]
    },
    {
     "name": "stdin",
     "output_type": "stream",
     "text": [
      "찾으실 문장을 입력하세요: 고향사랑 기부 상반기 모금 결과\n"
     ]
    },
    {
     "data": {
      "text/html": [
       "<style type=\"text/css\">\n",
       "#T_24903 th {\n",
       "  text-align: left;\n",
       "}\n",
       "#T_24903_row0_col0, #T_24903_row0_col1, #T_24903_row0_col2, #T_24903_row0_col3 {\n",
       "  text-align: left;\n",
       "}\n",
       "</style>\n",
       "<table id=\"T_24903\">\n",
       "  <thead>\n",
       "    <tr>\n",
       "      <th class=\"blank level0\" >&nbsp;</th>\n",
       "      <th id=\"T_24903_level0_col0\" class=\"col_heading level0 col0\" >DOCNO</th>\n",
       "      <th id=\"T_24903_level0_col1\" class=\"col_heading level0 col1\" >DOC_NAME</th>\n",
       "      <th id=\"T_24903_level0_col2\" class=\"col_heading level0 col2\" >CHUNKED_ID</th>\n",
       "      <th id=\"T_24903_level0_col3\" class=\"col_heading level0 col3\" >문서내용</th>\n",
       "    </tr>\n",
       "  </thead>\n",
       "  <tbody>\n",
       "    <tr>\n",
       "      <th id=\"T_24903_level0_row0\" class=\"row_heading level0 row0\" >0</th>\n",
       "      <td id=\"T_24903_row0_col0\" class=\"data row0 col0\" >20-2</td>\n",
       "      <td id=\"T_24903_row0_col1\" class=\"data row0 col1\" >고향사랑기부로 불어 넣은 지역 활력 2025년상반기모금결과공개</td>\n",
       "      <td id=\"T_24903_row0_col2\" class=\"data row0 col2\" >1</td>\n",
       "      <td id=\"T_24903_row0_col3\" class=\"data row0 col3\" >- 1 -보도자료보도시점(온라인) 2025. 7. 16.(수) 12:00 (지 면) 2025. 7. 17.(목) 조간고향사랑기부로 불어넣은 지역활력, 2025년 상반기 모금결과 공개 - 상반기 총 모금액 349억 원(전년대비 1.7배), 총 모금건수 28만 건(전년대비 1.9배) - 지정기부 시행(2024년 6월) 이후 누적 모금액 100억 원 돌파, 성공적으로 안착</td>\n",
       "    </tr>\n",
       "  </tbody>\n",
       "</table>\n"
      ],
      "text/plain": [
       "<pandas.io.formats.style.Styler at 0x7f3fdff43500>"
      ]
     },
     "metadata": {},
     "output_type": "display_data"
    }
   ],
   "source": [
    "# 검색 문장 입력 및 검색\n",
    "pd.set_option('display.max_colwidth', 200)\n",
    "print(\"예: 고향사랑 기부 상반기 모금 결과\")\n",
    "user_sentence = input(\"찾으실 문장을 입력하세요:\")\n",
    "\n",
    "sim_q = \"\"\"\n",
    "Select T.docno,\n",
    "D.doc_name, \n",
    "T.chunked_id,\n",
    "T.chunked_data AS 문서내용\n",
    "from doc_store_chunks T, doc_store D\n",
    "where D.docno = T.docno\n",
    "order by vector_distance(T.embed_vector, \n",
    "                         dbms_vector.utl_to_embedding(:u_sentence, \n",
    "                                                       json('{\"provider\":\"database\", \"model\":\"PARAPHRASE_MULTILINGUAL_MPNET_BASE_V2\"}')),\n",
    "                         cosine)\n",
    "fetch first 1 rows only\n",
    "\"\"\"\n",
    "sim_result = exec_sql(cursor,sim_q,{\"u_sentence\":user_sentence})\n",
    "sim_result = clean_text(sim_result)\n",
    "sim_result['문서내용']=sim_result['문서내용'].str.replace('\\n', '', regex=False)\n",
    "display(\n",
    "    sim_result.head(10).style\n",
    "    .set_properties(**{'text-align': 'left'})\n",
    "        .set_table_styles([{'selector': 'th', 'props': [('text-align', 'left')]}])\n",
    ")"
   ]
  },
  {
   "cell_type": "code",
   "execution_count": null,
   "id": "b1b0b90a-dd90-4197-a501-f464949fdf47",
   "metadata": {
    "collapsed": true,
    "jupyter": {
     "outputs_hidden": true,
     "source_hidden": true
    }
   },
   "outputs": [],
   "source": []
  }
 ],
 "metadata": {
  "kernelspec": {
   "display_name": "Python 3 (ipykernel)",
   "language": "python",
   "name": "python3"
  },
  "language_info": {
   "codemirror_mode": {
    "name": "ipython",
    "version": 3
   },
   "file_extension": ".py",
   "mimetype": "text/x-python",
   "name": "python",
   "nbconvert_exporter": "python",
   "pygments_lexer": "ipython3",
   "version": "3.12.9"
  }
 },
 "nbformat": 4,
 "nbformat_minor": 5
}
